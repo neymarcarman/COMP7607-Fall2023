{
  "cells": [
    {
      "cell_type": "markdown",
      "metadata": {
        "id": "view-in-github",
        "colab_type": "text"
      },
      "source": [
        "<a href=\"https://colab.research.google.com/github/neymarcarman/COMP7607-Fall2023/blob/master/assignments/A1%20/%E2%80%9CCOMP7607_Fall2023_A1_ipynb%E2%80%9D%E7%9A%84%E5%89%AF%E6%9C%AC.ipynb\" target=\"_parent\"><img src=\"https://colab.research.google.com/assets/colab-badge.svg\" alt=\"Open In Colab\"/></a>"
      ]
    },
    {
      "cell_type": "markdown",
      "metadata": {
        "id": "tEd-mtF0PTrv"
      },
      "source": [
        "# Assignment 1\n",
        "You should submit the **UniversityNumber.ipynb** file and your final prediction file **UniversityNumber.test.out** to Moodle. Make sure your code does not use your local files and that the results are reproducible. Before submitting, please **run your notebook and keep all running logs** so that we can check."
      ]
    },
    {
      "cell_type": "markdown",
      "metadata": {
        "id": "f8c9YBduQCI4"
      },
      "source": [
        "## 1 $n$-gram Language Model\n",
        "**Q1**: Expand the above definition of $ p(\\vec{w})$ using naive estimates of the parameters, such as $  p(w_4 \\mid w_2, w_3) \\stackrel{\\tiny{\\mbox{def}}}{=}  \\frac{C(w_2~w_3~w_4)}{C(w_2~w_3)} $ where \\( C(w_2 w_3 w_4) \\) denotes the count of times the trigram $ w_2 w_3 w_4 $ was observed in a training corpus."
      ]
    },
    {
      "cell_type": "markdown",
      "metadata": {
        "id": "SMQ_Z1g8QZef"
      },
      "source": [
        "**Write your answer:**\n",
        "\n",
        "\\# todo\n",
        "\n"
      ]
    },
    {
      "cell_type": "markdown",
      "metadata": {
        "id": "CmgExbf1QtCH"
      },
      "source": [
        "**Q2**: One could also define a kind of reversed trigram language model $p_{reversed}$ that instead assumed the words were generated in reverse order (from right to left):\n",
        "\\begin{align} p_{reversed}(\\vec{w}) \\stackrel{\\tiny{\\mbox{def}}}{=}&p(w_n) \\cdot p(w_{n-1} \\mid w_n) \\cdot p(w_{n-2} \\mid w_{n-1} w_n) \\cdot p(w_{n-3} \\mid w_{n-2} w_{n-1}) \\\\ &\\cdots p(w_2 \\mid w_3 w_4) \\cdot p(w_1 \\mid w_2 w_3) \\end{align}\n",
        "By manipulating the notation, show that the two models are identical, i.e., $ p(\\vec{w}) = p_{reversed}(\\vec{w}) $ for any $ \\vec{w} $ provided that both models use MLE parameters estimated from the same training data (see Q1 above)."
      ]
    },
    {
      "cell_type": "markdown",
      "metadata": {
        "id": "Qm1ZGFIaRPCP"
      },
      "source": [
        "**Write your answer:**\n",
        "\n",
        "\\# todo\n",
        "\n"
      ]
    },
    {
      "cell_type": "markdown",
      "metadata": {
        "id": "MQEc5kz4RniG"
      },
      "source": [
        "## 2 $N$-gram Language Model Implementation"
      ]
    },
    {
      "cell_type": "code",
      "execution_count": 7,
      "metadata": {
        "colab": {
          "base_uri": "https://localhost:8080/"
        },
        "id": "3kSwtN79jWgp",
        "outputId": "752baf04-5bfe-4e38-ed76-7b1f07bcb85e"
      },
      "outputs": [
        {
          "output_type": "stream",
          "name": "stdout",
          "text": [
            "--2023-09-27 02:02:39--  https://raw.githubusercontent.com/qtli/COMP7607-Fall2023/master/assignments/A1/data/lm/train.txt\n",
            "Resolving raw.githubusercontent.com (raw.githubusercontent.com)... 185.199.108.133, 185.199.109.133, 185.199.111.133, ...\n",
            "Connecting to raw.githubusercontent.com (raw.githubusercontent.com)|185.199.108.133|:443... connected.\n",
            "HTTP request sent, awaiting response... 200 OK\n",
            "Length: 6640478 (6.3M) [text/plain]\n",
            "Saving to: ‘train.txt’\n",
            "\n",
            "train.txt           100%[===================>]   6.33M  --.-KB/s    in 0.1s    \n",
            "\n",
            "2023-09-27 02:02:40 (63.6 MB/s) - ‘train.txt’ saved [6640478/6640478]\n",
            "\n",
            "--2023-09-27 02:02:40--  https://raw.githubusercontent.com/qtli/COMP7607-Fall2023/master/assignments/A1/data/lm/dev.txt\n",
            "Resolving raw.githubusercontent.com (raw.githubusercontent.com)... 185.199.111.133, 185.199.110.133, 185.199.109.133, ...\n",
            "Connecting to raw.githubusercontent.com (raw.githubusercontent.com)|185.199.111.133|:443... connected.\n",
            "HTTP request sent, awaiting response... 200 OK\n",
            "Length: 872910 (852K) [text/plain]\n",
            "Saving to: ‘dev.txt’\n",
            "\n",
            "dev.txt             100%[===================>] 852.45K  --.-KB/s    in 0.06s   \n",
            "\n",
            "2023-09-27 02:02:40 (13.1 MB/s) - ‘dev.txt’ saved [872910/872910]\n",
            "\n",
            "--2023-09-27 02:02:40--  https://raw.githubusercontent.com/qtli/COMP7607-Fall2023/master/assignments/A1/data/lm/test.txt\n",
            "Resolving raw.githubusercontent.com (raw.githubusercontent.com)... 185.199.109.133, 185.199.108.133, 185.199.110.133, ...\n",
            "Connecting to raw.githubusercontent.com (raw.githubusercontent.com)|185.199.109.133|:443... connected.\n",
            "HTTP request sent, awaiting response... 200 OK\n",
            "Length: 869318 (849K) [text/plain]\n",
            "Saving to: ‘test.txt’\n",
            "\n",
            "test.txt            100%[===================>] 848.94K  --.-KB/s    in 0.06s   \n",
            "\n",
            "2023-09-27 02:02:40 (12.8 MB/s) - ‘test.txt’ saved [869318/869318]\n",
            "\n"
          ]
        }
      ],
      "source": [
        "!wget -O train.txt https://raw.githubusercontent.com/qtli/COMP7607-Fall2023/master/assignments/A1/data/lm/train.txt\n",
        "!wget -O dev.txt https://raw.githubusercontent.com/qtli/COMP7607-Fall2023/master/assignments/A1/data/lm/dev.txt\n",
        "!wget -O test.txt https://raw.githubusercontent.com/qtli/COMP7607-Fall2023/master/assignments/A1/data/lm/test.txt"
      ]
    },
    {
      "cell_type": "code",
      "source": [
        "f=open('./train.txt')\n",
        "txt=[]\n",
        "for line in f:\n",
        "    txt.append(line)\n",
        "print(txt[0:100])"
      ],
      "metadata": {
        "colab": {
          "base_uri": "https://localhost:8080/"
        },
        "id": "ZK0G_gPNWBXN",
        "outputId": "26ff2643-99e3-4fbd-d324-9882786b26b0"
      },
      "execution_count": 11,
      "outputs": [
        {
          "output_type": "stream",
          "name": "stdout",
          "text": [
            "['facebook has released a report that shows what content was most widely viewed by americans between april and june .\\n', 'it contains sections showing the top 20 domains, links, pages, and posts in terms of views .\\n', 'a companion guide that describes how the data was gathered and analyzed was also released .\\n', 'facebook released the data in response to reports that posts from right-wing sources had the most interaction .\\n', 'the top posts only account for less than 0 .\\n', '1 percent of the content viewed by us users, and the data only accounts for public posts, not posts made in private groups .\\n', 'a link to the report is available in the article .\\n', 'a quantum effect called superabsorption allows a collection of molecules to absorb light more efficiently than if each molecule were acting individually .\\n', 'researchers have used this phenomenon to create a proof-of-concept quantum battery .\\n', 'the larger the battery was, the faster it charged, demonstrating superabsorption at work .\\n', 'quantum battery research could result in fast-charging electric vehicles or energy storage systems that can deal with bursts of energy .\\n', 'a spacex starship rocket prototype has exploded during a pressure test .\\n', 'it was the second to explode in four months .\\n', 'founder elon musk has laughed off the incident, saying that it was fine .\\n', 'a video of the incident is available in the article .\\n', 'spacex is working to reach earth orbit with a starship prototype within six months, and with human passengers by next year .\\n', 'it plans to use starship for planetary commercial flights .\\n', 'scalene is a high-performance cpu and memory profiler for python .\\n', \"it is fast as it uses sampling instead of instrumentation or relying on python's tracing facilities .\\n\", 'scalene performs cpu profiling at the line level, providing a high level of detail .\\n', 'the line tracking can also identify code responsible for memory growth .\\n', 'with the rise of cheap small \"cube satellites\", startups are now taking photos and infrared images of factories, retail parking lots, oil tankers, and more and selling these images to hedge funds and banks looking for an edge in gauging economic activity .\\n', 'governments and human rights groups use the technology as well to track illegal mining and logging operations and large-scale home demolitions .\\n', 'human rights watch says \"this is why we are so committed to these technologies .\\n', 'they make it that much harder to hide large-scale abuses .\\n', '\" a small 10 pound satellite now costs only about $3 million .\\n', 'alphabet and softbank recently announced that they successfully ran a stable lte connection from a solar-powered drone 62,000 feet high .\\n', 'the connection was used to make an international video call between japan and the us .\\n', \"alphabet's loon provided the communications payload while softbank's hapsmobile built the aircraft .\\n\", 'the sunglider is an enormous solar-powered drone designed to fly for months at a time .\\n', 'it looks like a single massive wing powered by 10 propellers .\\n', 'a short video showing the test flight is available in the article .\\n', 'sqlflow connects sql and tensorflow together so that sql can be used for machine learning .\\n', 'sql is a popular data storage solution, so implementing machine learning capabilities to work with it allows more engineers to have access to ai technology .\\n', 'users are encouraged to provide feedback to contribute to the project .\\n', 'ice cream develops a crunchy texture if left out of the freezer for too long due to overly large ice crystals .\\n', 'scientists from the university of tennessee have developed a technique that involves using a plant-based additive to stop the formation of these crystals .\\n', 'the technique was inspired by the structure and functionality of antifreeze proteins found in plants and animals that thrive in sub-zero temperatures .\\n', 'it could prove useful in the cryopreservation of cells, tissues, and organs .\\n', 'the additive could be in products within the next five years .\\n', \"tesla's 100mw powerpack battery has provided south australia with the same grid services as peaker plants, but cheaper, quicker, and with zero-emissions through its battery system .\\n\", 'the energy system cost just $66 million, and has already saved australians $40 million .\\n', 'basically peaker plants are power plants that are only run when there is a spike in demand that outstrips supply so they are able to demand really high prices .\\n', \"tesla's giant battery allowed power to be saved efficiently to prevent these shortages, saving australians tons of money .\\n\", '9 was released on october 5 and as with every new version of python, it includes new, improved, and deprecated features .\\n', 'a link to the complete list of changes is provided at the beginning of the article .\\n', 'this article is a tutorial that covers some of python 3 .\\n', \"9's new features, including proper time zone support, simple updating of dictionaries, more flexible decorators, a more powerful python parser, and more .\\n\", \"quaise energy is an mit spinout that wants to use x-rays to melt rock to create the world's deepest holes and capture geothermal energy .\\n\", 'it plans to use a microwave-emitting device called a gyrotron to vaporize rock, removing the need for complicated downhole equipment .\\n', 'quaise aims to extract energy from pilot geothermal wells by 2026 .\\n', 'the company intends to capture energy on a scale large enough to meet human energy needs for millions of years .\\n', 'jeffrey berns, ceo of blockchains llc, wants the nevada government to allow companies like his to form local governments on land they own, granting them power over everything from schools to law enforcement .\\n', 'berns envisions a city based on digital currencies and blockchain storage .\\n', 'his company is proposing to build a 15,000 home town 12 miles east of reno .\\n', 'the proposed legislation has yet to be formally filed or discussed in public hearings .\\n', 'scientists can manipulate dreams using an app combined with a sleep-tracking device called dormio .\\n', \"in a recent study, the researchers inserted certain topics into a person's dreams using the technique .\\n\", 'targeted dream incubation (tdi) targets an early sleep stage known as hypnagogia to achieve results similar to the rare dream state known as lucid dreaming .\\n', 'using tdi, the scientists introduced targeted information to a sleeper, which resulted in direct incorporation of the information into dream content .\\n', 'mechanisms that control sleep and dreaming are not well understood, so it is unknown yet what benefits the technology could bring .\\n', 'the results of a phase 1 trial to study the effects of microdosing lsd have been published .\\n', \"researchers were testing whether microdosing psychedelics could be useful as a therapeutic approach for treating alzheimer's disease .\\n\", 'the early data shows that microdosing lsd is safe enough to proceed with larger trials .\\n', 'research into psychedelics for their potent anti-depressant effects has been promising, with psilocybin being given breakthrough therapy status twice in the last year .\\n', \"damage to these receptors is implicated in many early symptoms of alzheimer's disease .\\n\", 'research has so far been inconclusive about the positive effects of microdosing .\\n', \"current milk alternatives just aren't the same, so impossible foods is now working on a food replacement that looks, tastes, and behaves like cow's milk .\\n\", 'the impossible investigator project aims to recruit leading scientists to contribute to the cause .\\n', \"impossible foods' milk is made with stable proteins sourced from plants .\\n\", 'it properly mixes with other liquids and can be whipped into a foam .\\n', \"there is no timeline for when the milk substitute will be ready to leave impossible foods' labs .\\n\", 'president donald trump has signed an executive order that targets tech companies .\\n', 'section 230 of the communications decency act gives internet companies broad immunity from liability for the content their users post on their platforms .\\n', \"the draft order asks that the fcc reinterpret the law and decide what it means for a platform not to be acting in 'good faith' under the provision .\\n\", 'trump signed the order in reaction to twitter fact-checking two of his tweets earlier in the week where he made false and misleading claims about mail-in voting and voter fraud .\\n', 'repealing or limiting section 230 of the community decency act may result in more restricted speech online as companies will not want to be exposed to the potential liability for everything their users want to say .\\n', 'this is a new and quickly growing subreddit about iphone shortcuts (scripts that you can run using the new shortcuts app) .\\n', \"if you're the kind of person who likes to tinker with scripts on your own devices, there's a lot of cool stuff here, the subreddit already has 45k subscribers .\\n\", 'a team of scientists launched a box containing four types of bacteria and fungus into the stratosphere to expose them to several hours of mars-like conditions .\\n', 'the experiment found that some species of fungi could be resistant to the martian surface if accidentally delivered by spacecraft missions .\\n', 'this finding has implications for human mars missions, as mission planners will have to figure out a way to prevent organisms in our microbiomes from spreading into the martian environment .\\n', 'the united arab emirates is transitioning to a 4 .\\n', 'it will be moving from a friday to saturday weekend schedule to a friday afternoon to sunday weekend .\\n', 'the uae is the first nation to formalize a workweek shorter than five days .\\n', 'the changes apply to federal government entities and will take effect at the beginning of next year .\\n', \"private industry, schools, and universities will likely follow the government's lead .\\n\", 'the changes are expected to bring economic and lifestyle benefits .\\n', \"github sponsors is a way to fund your open source project, but most developers aren't getting the most out of it .\\n\", 'a way to increase your number of sponsors is to create exclusive content for them, for example, articles, videos, and other educational material .\\n', 'you can restrict who has access to your posts, depending on their sponsor tier .\\n', 'reddit has acquired dubsmash, a short-form video social platform .\\n', 'dubsmash will continue to exist as a separate platform and brand, but its software will be integrated into reddit .\\n', 'reddit has allowed video uploads since 2017, but its video-editing tools are limited .\\n', \"dubsmash has declined to share its total number of users, but its share of the usa's short-form video market is second only to tiktok .\\n\", \"reddit specifically cited dubsmash's user base as a reason for its acquisition .\\n\", 'scientists have been prohibited from keeping human embryos alive in their labs for more than 14 days for the last few decades to avoid ethical issues that might be raised from experimenting on them as they continue to develop .\\n', 'the international society for stem cell research released new guidelines on wednesday that said that the two-week period could be extended under certain circumstances .\\n', 'extending the period in which embryos may be studied would help scientists solve many medical problems .\\n', 'the guidelines stress that each country should only permit such experiments after the topic has been discussed at length in public and with a majority agreement .\\n']\n"
          ]
        }
      ]
    },
    {
      "cell_type": "markdown",
      "metadata": {
        "id": "W9HCVQwqkTc_"
      },
      "source": [
        "### 2.1 Building vocabulary"
      ]
    },
    {
      "cell_type": "markdown",
      "metadata": {
        "id": "-KhFKCzwkaTn"
      },
      "source": [
        "**Code**\n",
        "\n",
        "\\# todo\n",
        "\n"
      ]
    },
    {
      "cell_type": "markdown",
      "metadata": {
        "id": "JLQNsUA5kfZe"
      },
      "source": [
        "**Discussion**\n",
        "\n",
        "\\# todo\n",
        "\n"
      ]
    },
    {
      "cell_type": "markdown",
      "metadata": {
        "id": "fJzDNMVikkeX"
      },
      "source": [
        "### 2.2 $N$-gram Language Modeling"
      ]
    },
    {
      "cell_type": "markdown",
      "metadata": {
        "id": "Xxkcs2HykuR2"
      },
      "source": [
        "**Code**\n",
        "\n",
        "\\# todo\n",
        "\n"
      ]
    },
    {
      "cell_type": "markdown",
      "metadata": {
        "id": "o3o9Nez8kvYm"
      },
      "source": [
        "**Discussion**\n",
        "\n",
        "\\# todo\n",
        "\n"
      ]
    },
    {
      "cell_type": "markdown",
      "metadata": {
        "id": "BOQUqM73kzf-"
      },
      "source": [
        "### 2.3 Smoothing"
      ]
    },
    {
      "cell_type": "markdown",
      "metadata": {
        "id": "2LgXRmJwk3Y-"
      },
      "source": [
        "#### 2.3.1 Add-one (Laplace) smoothing"
      ]
    },
    {
      "cell_type": "markdown",
      "metadata": {
        "id": "lFG7jCIRk7Qw"
      },
      "source": [
        "**Code**\n",
        "\n",
        "\\# todo\n",
        "\n"
      ]
    },
    {
      "cell_type": "markdown",
      "metadata": {
        "id": "36yTKPXFk8f2"
      },
      "source": [
        "**Discussion**\n",
        "\n",
        "\\# todo\n",
        "\n"
      ]
    },
    {
      "cell_type": "markdown",
      "metadata": {
        "id": "Z8cFbczqlBR_"
      },
      "source": [
        "#### 2.3.2: Add-$k$ smoothing"
      ]
    },
    {
      "cell_type": "markdown",
      "metadata": {
        "id": "uV_ZiAgIlPUu"
      },
      "source": [
        "**Code**\n",
        "\n",
        "\\# todo\n",
        "\n"
      ]
    },
    {
      "cell_type": "markdown",
      "metadata": {
        "id": "UHFNf8OIlQ0O"
      },
      "source": [
        "**Discussion**\n",
        "\n",
        "\\# todo\n",
        "\n"
      ]
    },
    {
      "cell_type": "markdown",
      "metadata": {
        "id": "AjKEO_TqlUrX"
      },
      "source": [
        "#### 2.3.3 Linear Interpolation"
      ]
    },
    {
      "cell_type": "markdown",
      "metadata": {
        "id": "pcdd4cvYlZuO"
      },
      "source": [
        "**Code**\n",
        "\n",
        "\\# todo\n",
        "\n"
      ]
    },
    {
      "cell_type": "markdown",
      "metadata": {
        "id": "QyKqmQ37lcH2"
      },
      "source": [
        "**Discussion**\n",
        "\n",
        "\\# todo\n",
        "\n"
      ]
    },
    {
      "cell_type": "markdown",
      "metadata": {
        "id": "xzSbk2bClf3u"
      },
      "source": [
        "##### **Optimization**:\n",
        "\n",
        "\\# todo"
      ]
    },
    {
      "cell_type": "markdown",
      "metadata": {
        "id": "MgTcTlLuloHu"
      },
      "source": [
        "## 3 Preposition Prediction"
      ]
    },
    {
      "cell_type": "code",
      "execution_count": null,
      "metadata": {
        "colab": {
          "background_save": true,
          "base_uri": "https://localhost:8080/"
        },
        "id": "7jb0OQ-yltc3",
        "outputId": "5854f2e3-ebf9-4dca-a6cd-13accb12af35"
      },
      "outputs": [
        {
          "name": "stdout",
          "output_type": "stream",
          "text": [
            "--2023-09-25 04:43:35--  https://raw.githubusercontent.com/qtli/COMP7607-Fall2023/master/assignments/A1/data/prep/dev.in\n",
            "Resolving raw.githubusercontent.com (raw.githubusercontent.com)... 185.199.109.133, 185.199.111.133, 185.199.108.133, ...\n",
            "Connecting to raw.githubusercontent.com (raw.githubusercontent.com)|185.199.109.133|:443... connected.\n",
            "HTTP request sent, awaiting response... 404 Not Found\n",
            "2023-09-25 04:43:35 ERROR 404: Not Found.\n",
            "\n",
            "--2023-09-25 04:43:35--  https://github.com/qtli/COMP7607-Fall2023/blob/master/assignments/A1/data/prep/dev.out\n",
            "Resolving github.com (github.com)... 140.82.112.4\n",
            "Connecting to github.com (github.com)|140.82.112.4|:443... connected.\n",
            "HTTP request sent, awaiting response... 404 Not Found\n",
            "2023-09-25 04:43:35 ERROR 404: Not Found.\n",
            "\n"
          ]
        }
      ],
      "source": [
        "!wget -O dev.in https://raw.githubusercontent.com/qtli/COMP7607-Fall2023/master/assignments/A1/data/prep/dev.in\n",
        "!wget -O dev.out https://github.com/qtli/COMP7607-Fall2023/blob/master/assignments/A1/data/prep/dev.out"
      ]
    }
  ],
  "metadata": {
    "colab": {
      "provenance": [],
      "toc_visible": true,
      "include_colab_link": true
    },
    "kernelspec": {
      "display_name": "Python 3",
      "name": "python3"
    },
    "language_info": {
      "name": "python"
    }
  },
  "nbformat": 4,
  "nbformat_minor": 0
}